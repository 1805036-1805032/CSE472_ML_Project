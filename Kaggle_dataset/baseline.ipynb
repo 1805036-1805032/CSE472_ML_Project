{
 "cells": [
  {
   "cell_type": "code",
   "execution_count": 24,
   "metadata": {},
   "outputs": [],
   "source": [
    "import numpy as np\n",
    "import pandas as pd\n",
    "import matplotlib.pyplot as plt\n",
    "import seaborn as sns\n",
    "import os"
   ]
  },
  {
   "cell_type": "code",
   "execution_count": 25,
   "metadata": {},
   "outputs": [
    {
     "name": "stdout",
     "output_type": "stream",
     "text": [
      "total BP: 183\n",
      "total SZ: 288\n",
      "Total_entries: 471\n"
     ]
    }
   ],
   "source": [
    "PATH_TO_BP = '/home/mmk/codes/spc23/train/BP'\n",
    "PATH_TO_SZ = '/home/mmk/codes/spc23/train/SZ'\n",
    "\n",
    "BP_folder_names = os.listdir(PATH_TO_BP)\n",
    "SZ_folder_names = os.listdir(PATH_TO_SZ)\n",
    "BP_folders_paths = [ os.path.join(PATH_TO_BP, x ) for x in BP_folder_names]\n",
    "SZ_folders_paths = [ os.path.join(PATH_TO_SZ, x ) for x in SZ_folder_names]\n",
    "\n",
    "print(\"total BP:\", len(BP_folder_names))\n",
    "print(\"total SZ:\", len(SZ_folder_names))\n",
    "TOTAL_ENTRIES = len(BP_folder_names) + len(SZ_folder_names)\n",
    "print(\"Total_entries:\", TOTAL_ENTRIES)"
   ]
  },
  {
   "cell_type": "code",
   "execution_count": 26,
   "metadata": {},
   "outputs": [],
   "source": [
    "X_train_full = []\n",
    "y_train_full = []"
   ]
  },
  {
   "attachments": {},
   "cell_type": "markdown",
   "metadata": {},
   "source": [
    "## Create a Train Data from fnc only"
   ]
  },
  {
   "cell_type": "code",
   "execution_count": 27,
   "metadata": {},
   "outputs": [],
   "source": [
    "for path in BP_folders_paths:\n",
    "\n",
    "    fnc_array = np.load(os.path.join(path, \"fnc.npy\"))\n",
    "    fnc_array = fnc_array.reshape(1,5460)[0].tolist()\n",
    "    X_train_full.append(fnc_array)\n",
    "    y_train_full.append(0)\n",
    "\n",
    "\n",
    "for path in SZ_folders_paths:\n",
    "    fnc_array = np.load(os.path.join(path, \"fnc.npy\"))\n",
    "    fnc_array = fnc_array.reshape(1,5460)[0].tolist()\n",
    "    X_train_full.append(fnc_array)\n",
    "    y_train_full.append(1)\n",
    "    \n",
    "X_train_full = pd.DataFrame(X_train_full)\n",
    "y_train_full = pd.Series(y_train_full)"
   ]
  },
  {
   "cell_type": "code",
   "execution_count": 28,
   "metadata": {},
   "outputs": [
    {
     "data": {
      "text/plain": [
       "(471, 5460)"
      ]
     },
     "execution_count": 28,
     "metadata": {},
     "output_type": "execute_result"
    }
   ],
   "source": [
    "X_train_full.shape"
   ]
  },
  {
   "cell_type": "code",
   "execution_count": 29,
   "metadata": {},
   "outputs": [],
   "source": [
    "from sklearn.model_selection import train_test_split\n",
    "X_train, X_test, y_train, y_test = train_test_split(X_train_full, y_train_full, test_size=0.3, random_state=42)"
   ]
  },
  {
   "cell_type": "code",
   "execution_count": 30,
   "metadata": {},
   "outputs": [
    {
     "name": "stdout",
     "output_type": "stream",
     "text": [
      "0.6263829787234043   0.028020557673454162\n"
     ]
    }
   ],
   "source": [
    "from xgboost import XGBClassifier\n",
    "from sklearn.metrics import confusion_matrix, roc_curve, auc, accuracy_score\n",
    "from sklearn.model_selection import cross_val_score\n",
    "\n",
    "xgb_classifier = XGBClassifier(random_state = 0)\n",
    "\n",
    "\n",
    "# cross validation \n",
    "scores = cross_val_score(xgb_classifier, X_train_full, y_train_full,cv=5,scoring='accuracy')\n",
    "print(scores.mean(), \" \", scores.std())"
   ]
  },
  {
   "cell_type": "code",
   "execution_count": 31,
   "metadata": {},
   "outputs": [],
   "source": [
    "# y_pred_xgb = xgb_classifier.predict(X_train_full)\n",
    "# auc_score_xgb = accuracy_score(y_train_full, y_pred_xgb)\n",
    "# print(auc_score_xgb)"
   ]
  },
  {
   "cell_type": "code",
   "execution_count": 32,
   "metadata": {},
   "outputs": [],
   "source": [
    "# fig, ax = plt.subplots()\n",
    "# cm = confusion_matrix(y_true=y_test, y_pred=y_pred_xgb, normalize='pred')\n",
    "# sns.heatmap(data= cm, cmap='Blues', annot=True, ax = ax)\n",
    "# ax.set_title('Confusion matrix for XGB')"
   ]
  },
  {
   "cell_type": "code",
   "execution_count": null,
   "metadata": {},
   "outputs": [],
   "source": []
  }
 ],
 "metadata": {
  "kernelspec": {
   "display_name": "Python 3",
   "language": "python",
   "name": "python3"
  },
  "language_info": {
   "codemirror_mode": {
    "name": "ipython",
    "version": 3
   },
   "file_extension": ".py",
   "mimetype": "text/x-python",
   "name": "python",
   "nbconvert_exporter": "python",
   "pygments_lexer": "ipython3",
   "version": "3.10.6"
  },
  "orig_nbformat": 4,
  "vscode": {
   "interpreter": {
    "hash": "916dbcbb3f70747c44a77c7bcd40155683ae19c65e1c03b4aa3499c5328201f1"
   }
  }
 },
 "nbformat": 4,
 "nbformat_minor": 2
}
